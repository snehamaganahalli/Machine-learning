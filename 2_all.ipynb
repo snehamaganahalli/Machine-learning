{
 "cells": [
  {
   "cell_type": "markdown",
   "id": "7d680aeb",
   "metadata": {},
   "source": [
    "#  2 i) Linear regression\n",
    "Note: Restart the kernel and start to run!"
   ]
  },
  {
   "cell_type": "code",
   "execution_count": 127,
   "id": "dd2b4bf7",
   "metadata": {},
   "outputs": [],
   "source": [
    "import matplotlib.pyplot as plt\n",
    "from sklearn import cluster, datasets, mixture\n",
    "import numpy as np\n",
    "from scipy.stats import multivariate_normal\n",
    "import pandas as pd\n",
    "from sklearn.model_selection import train_test_split\n",
    "from numpy import linalg as LA\n",
    "import sklearn\n",
    "import csv"
   ]
  },
  {
   "cell_type": "code",
   "execution_count": 128,
   "id": "f78f93bb",
   "metadata": {},
   "outputs": [
    {
     "data": {
      "text/plain": [
       "(100,)"
      ]
     },
     "execution_count": 128,
     "metadata": {},
     "output_type": "execute_result"
    }
   ],
   "source": [
    "f=100\n",
    "n=10000\n",
    "#X is 1000*100 matrix, y is 1*1000 mat\n",
    "X, y, coef = sklearn.datasets.make_regression(n_samples = n, n_informative=10, noise=0,coef = True)\n",
    "\n",
    "filename = 'A2Q2Data_train.csv'\n",
    "raw_data = open(filename, 'rt')\n",
    "reader = csv.reader(raw_data, delimiter=',', quoting=csv.QUOTE_NONE)\n",
    "x = list(reader)\n",
    "data = np.array(x).astype('float')\n",
    "X_temp = data\n",
    "coef.shape"
   ]
  },
  {
   "cell_type": "code",
   "execution_count": 129,
   "id": "cbb30135",
   "metadata": {},
   "outputs": [
    {
     "name": "stdout",
     "output_type": "stream",
     "text": [
      "(10000, 1)\n",
      "[[1.9741]\n",
      " [2.3354]\n",
      " [2.2053]\n",
      " ...\n",
      " [2.0964]\n",
      " [1.8405]\n",
      " [2.7624]]\n"
     ]
    }
   ],
   "source": [
    "\n",
    "X = np.delete(X_temp, 100,1)\n",
    "y = X_temp[:,100]\n",
    "\n",
    "y.reshape(10000,1)\n",
    "\n",
    "#print(y[:,None])\n",
    "y = y[:,None]\n",
    "print(y.shape)\n",
    "print(y)\n"
   ]
  },
  {
   "cell_type": "code",
   "execution_count": 130,
   "id": "7d57907c",
   "metadata": {},
   "outputs": [
    {
     "name": "stdout",
     "output_type": "stream",
     "text": [
      "[ 0.          0.          0.          0.          0.          0.\n",
      "  0.          0.          0.          0.          0.          0.\n",
      "  0.          0.          0.          0.          0.          0.\n",
      "  0.         39.63037741 93.88061104  0.          0.          0.\n",
      "  0.          0.          0.          0.          0.         13.52347686\n",
      "  0.          0.          0.          0.          0.          0.\n",
      "  0.          0.          0.          0.          0.          0.\n",
      "  0.         98.30045316  0.          0.         69.01130232  0.\n",
      " 86.16346954  0.          0.          0.          0.          0.\n",
      "  0.          0.          0.          0.          0.          0.\n",
      "  0.          0.          0.          0.          0.          0.\n",
      "  0.          0.          0.          0.         98.1764087   0.\n",
      "  0.          0.          0.          0.          0.          0.\n",
      "  0.          0.          0.         49.29482275  0.         23.56643842\n",
      "  0.          0.          0.          0.          0.          0.\n",
      "  0.          0.          0.         56.67432925  0.          0.\n",
      "  0.          0.          0.          0.        ]\n"
     ]
    },
    {
     "data": {
      "text/plain": [
       "(100,)"
      ]
     },
     "execution_count": 130,
     "metadata": {},
     "output_type": "execute_result"
    }
   ],
   "source": [
    "print(coef)\n",
    "coef.shape"
   ]
  },
  {
   "cell_type": "code",
   "execution_count": 131,
   "id": "de950d7e",
   "metadata": {},
   "outputs": [
    {
     "name": "stdout",
     "output_type": "stream",
     "text": [
      "X_train (10000, 100)\n",
      "y_train (10000, 1)\n",
      "X_val (2000, 100)\n",
      "y_val (2000, 1)\n"
     ]
    }
   ],
   "source": [
    "#take only the training data set:\n",
    "\n",
    "#n_train = 0.8 * 0.8 * 1000\n",
    "#n_test = 0.2*n\n",
    "#n_val = 0.2 * 0.8 *1000\n",
    "#X_train, X_test, y_train, y_test = train_test_split(X, y, test_size = 0.2)\n",
    "\n",
    "\n",
    "#X_train.shape\n",
    "\n",
    "\n",
    "\n",
    "X_train = X\n",
    "y_train = y\n",
    "\n",
    "save_X_train = X_train\n",
    "save_y_train = y_train\n",
    "\n",
    "\n",
    "\n",
    "# Only ridge regresion will use x_tval and y_val\n",
    "#n_val = 0.2 * 10000\n",
    "X_train_ridge, X_val, y_train_ridge, y_val = train_test_split(X_train, y_train, test_size = 0.2)\n",
    "print(\"X_train\", X_train.shape)\n",
    "print(\"y_train\", y_train.shape)\n",
    "print(\"X_val\", X_val.shape)\n",
    "print(\"y_val\", y_val.shape)\n"
   ]
  },
  {
   "cell_type": "code",
   "execution_count": 132,
   "id": "e81625df",
   "metadata": {},
   "outputs": [
    {
     "name": "stdout",
     "output_type": "stream",
     "text": [
      "(500, 101)\n"
     ]
    }
   ],
   "source": [
    "f_test=100\n",
    "n_test=500\n",
    "n_train=10000\n",
    "#X is 1000*100 matrix, y is 1*1000 mat\n",
    "X, y, coef = sklearn.datasets.make_regression(n_samples = n_test, n_informative=10, noise=0,coef = True)\n",
    "\n",
    "filename = 'A2Q2Data_test.csv'\n",
    "raw_data = open(filename, 'rt')\n",
    "reader = csv.reader(raw_data, delimiter=',', quoting=csv.QUOTE_NONE)\n",
    "x = list(reader)\n",
    "data = np.array(x).astype('float')\n",
    "X_temp = data\n",
    "coef.shape\n",
    "print(X_temp.shape)\n",
    "\n",
    "# shuffle if needed only. To try different radom initialization\n",
    "#print(X_temp)\n",
    "#np.random.shuffle(X_temp)\n",
    "#print(\"==============================================\")\n",
    "#print(X_temp)\n",
    "\n",
    "X_testing = np.delete(X_temp, 100,1)\n",
    "y_testing = X_temp[:,100]\n",
    "\n",
    "y_testing.reshape(500,1)\n",
    "\n",
    "#print(y[:,None])\n",
    "y_testing = y_testing[:,None]"
   ]
  },
  {
   "cell_type": "code",
   "execution_count": 133,
   "id": "ac6d12a1",
   "metadata": {},
   "outputs": [],
   "source": [
    "X_test = X_testing\n",
    "y_test = y_testing"
   ]
  },
  {
   "cell_type": "code",
   "execution_count": 134,
   "id": "2c51a619",
   "metadata": {},
   "outputs": [],
   "source": [
    "#Obtaining analytical solution (X^TX)^-1X^Ty\n",
    "#w_ml = LA.inv(X.T @ X) @X.T @y\n",
    "w_ml = np.dot(np.dot(LA.inv(np.dot(X_train.T, X_train)),X_train.T), y_train)"
   ]
  },
  {
   "cell_type": "code",
   "execution_count": 135,
   "id": "695451ac",
   "metadata": {},
   "outputs": [
    {
     "name": "stdout",
     "output_type": "stream",
     "text": [
      "\n",
      "mean squared error on train set using w_ML 0.03968644186272517\n"
     ]
    }
   ],
   "source": [
    "#loss on train set using w_ML\n",
    "#print(\"w_ml\", w_ml.reshape(f))\n",
    "print()\n",
    "print(\"mean squared error on train set using w_ML\", (1/n_train)*(LA.norm(X_train@w_ml-y_train))**2)"
   ]
  },
  {
   "cell_type": "code",
   "execution_count": 136,
   "id": "fc4177c0",
   "metadata": {},
   "outputs": [
    {
     "name": "stdout",
     "output_type": "stream",
     "text": [
      "mean squared error on test set using w_ML 0.37072731116978636\n"
     ]
    }
   ],
   "source": [
    "#Mean squared Error on the test set using w_ML\n",
    "print(\"mean squared error on test set using w_ML\", (1/n_test)*(LA.norm(X_test@w_ml - y_test))**2)"
   ]
  },
  {
   "cell_type": "code",
   "execution_count": 137,
   "id": "cf17a282",
   "metadata": {},
   "outputs": [
    {
     "data": {
      "text/plain": [
       "array([-7.84961009e-03, -1.36715320e-02, -3.61656438e-03,  2.64909160e-03,\n",
       "        1.88551446e-01,  2.65314657e-03,  9.46531786e-03,  1.79809481e-01,\n",
       "        3.73757317e-03,  4.99608944e-01,  8.35836265e-03,  4.29108775e-03,\n",
       "        1.42141179e-02,  3.94232414e-03,  9.36795890e-03, -1.12038274e-03,\n",
       "        3.35727500e-03,  1.16152212e-03, -9.40884707e-03, -2.45575476e-03,\n",
       "       -1.17409629e-02, -1.01960612e-02,  7.95771321e-03, -1.00574854e-02,\n",
       "        6.04882939e-03, -4.67345192e-03, -3.09091547e-03,  8.14909193e-03,\n",
       "        1.20264599e-02, -6.82458163e-03, -8.65405539e-03,  9.86273479e-04,\n",
       "        4.92968011e-03,  5.99772461e-03, -1.34667860e-02,  1.07075729e-03,\n",
       "        1.32745992e-02, -1.14148742e-02, -2.01056697e-02,  5.85096240e-01,\n",
       "        4.94483247e-04, -7.86666920e-04, -2.71926574e-03, -9.54021938e-03,\n",
       "       -5.44161058e-03,  9.80679209e-03, -6.72540624e-03, -4.45414276e-04,\n",
       "        6.98516508e-03,  3.16138907e-02,  4.51763485e-01, -8.75221380e-03,\n",
       "        2.55167390e-03,  4.24921150e-03,  2.89847927e-01,  7.03723255e-03,\n",
       "       -1.95796946e-03,  1.41523883e-02, -1.06508170e-02,  7.72743903e-01,\n",
       "       -5.67126044e-03, -6.30026188e-04,  6.50943015e-03, -4.84019165e-03,\n",
       "        4.63832329e-03,  4.54887177e-03, -2.99475114e-03,  8.38781696e-03,\n",
       "       -2.47558716e-03,  9.00947922e-04,  1.14713514e-03, -1.87641345e-03,\n",
       "       -1.05175760e-02, -9.31304110e-03, -1.23550002e-03,  5.97797559e-01,\n",
       "       -4.78625013e-03, -1.13727852e-02,  2.88477060e-03,  8.48999776e-01,\n",
       "       -1.08924235e-02,  2.26346489e-03, -1.38099800e-03, -6.35934691e-03,\n",
       "        5.83784109e-03,  5.69286755e-03,  5.35566859e-03, -8.20616315e-03,\n",
       "        1.29884015e-02, -2.30575631e-03, -1.22263765e-04,  8.66629171e-03,\n",
       "       -4.29446300e-03,  5.69510898e-03,  7.55483353e-03, -9.43540843e-03,\n",
       "        1.82905446e-02, -1.16998887e-03, -2.61599136e-03, -8.58616114e-03])"
      ]
     },
     "execution_count": 137,
     "metadata": {},
     "output_type": "execute_result"
    }
   ],
   "source": [
    "w_ml.reshape(-1)"
   ]
  },
  {
   "cell_type": "markdown",
   "id": "8789fa95",
   "metadata": {},
   "source": [
    "# 2 ii) Gradient descent"
   ]
  },
  {
   "cell_type": "code",
   "execution_count": 138,
   "id": "3b6fff1e",
   "metadata": {},
   "outputs": [
    {
     "name": "stdout",
     "output_type": "stream",
     "text": [
      "w_grad (100, 1)\n"
     ]
    }
   ],
   "source": [
    "eta = 69e-7\n",
    "\n",
    "w_grad = np.random.randn(f,1)\n",
    "print(\"w_grad\", w_grad.shape)\n",
    "loss1 = []\n",
    "diff = []\n",
    "\n",
    "for i in range(1100):\n",
    "    xyz = X_train@w_grad\n",
    "    w_grad = w_grad-eta*(X_train.T@(X_train@w_grad-y_train)) \n",
    "    diff.append(LA.norm(w_grad-w_ml))\n",
    "\n",
    "diff = np.array(diff)\n"
   ]
  },
  {
   "cell_type": "code",
   "execution_count": 139,
   "id": "921d2fe4",
   "metadata": {},
   "outputs": [
    {
     "data": {
      "image/png": "[encoded data removed]",
      "text/plain": [
       "<Figure size 432x288 with 1 Axes>"
      ]
     },
     "metadata": {
      "needs_background": "light"
     },
     "output_type": "display_data"
    }
   ],
   "source": [
    "# plot ||w_grad-w_ml||_2\n",
    "plt.grid()\n",
    "plt.title(\"Gradient Descent plot\")\n",
    "plt.xlabel(\"Iterations\")\n",
    "plt.ylabel(\"|| $w^t - $w_{ML} ||$_2$\")\n",
    "plt.plot(diff)\n",
    "plt.show()\n",
    "#plt.savefig(\"L2 Norm of difference for gradient descent\")"
   ]
  },
  {
   "cell_type": "code",
   "execution_count": 140,
   "id": "5b9cf4f1",
   "metadata": {},
   "outputs": [],
   "source": [
    "# Final mean squared Error on train set using w_ML\n",
    "#print(\"Final Mean squared error on train set using w_grad\", (1/n_train)*(LA.norm(X_train@w_grad-y_train))**2)\n"
   ]
  },
  {
   "cell_type": "code",
   "execution_count": 141,
   "id": "738788c9",
   "metadata": {},
   "outputs": [
    {
     "name": "stdout",
     "output_type": "stream",
     "text": [
      "(500, 1)\n",
      "Final Mean squared error on train set using w_grad 0.3686522024385483\n"
     ]
    }
   ],
   "source": [
    "# Final mean squared Error on test set using w_grad\n",
    "print(y_test.shape)\n",
    "print(\"Final Mean squared error on train set using w_grad\", (1/n_test)*(LA.norm(X_test@w_grad-y_test))**2)"
   ]
  },
  {
   "cell_type": "code",
   "execution_count": 142,
   "id": "53952d5a",
   "metadata": {},
   "outputs": [],
   "source": [
    "#w_grad.reshape(-1)"
   ]
  },
  {
   "cell_type": "markdown",
   "id": "b2843fdc",
   "metadata": {},
   "source": [
    "# 2) iii) Stochastic Gradient descent"
   ]
  },
  {
   "cell_type": "code",
   "execution_count": 143,
   "id": "8b2ea4f0",
   "metadata": {},
   "outputs": [],
   "source": [
    "X_train_1 = np.empty((0,100),int)\n",
    "y_train_1 = np.empty((0,100),int)\n",
    "\n",
    "X_train = save_X_train\n",
    "y_train = save_y_train\n",
    "\n",
    "\n",
    "for i in range(100):\n",
    "    X_train_1 = np.append(X_train_1, np.mean(X_train[i*100:(i+1)*100] , axis = 0))\n",
    "    y_train_1 = np.append(y_train_1, np.mean(y_train[i*100:(i+1)*100] , axis = 0))"
   ]
  },
  {
   "cell_type": "code",
   "execution_count": 144,
   "id": "0c2f3771",
   "metadata": {},
   "outputs": [
    {
     "name": "stdout",
     "output_type": "stream",
     "text": [
      "w_grad (100, 1)\n"
     ]
    }
   ],
   "source": [
    "eta = 69e-7\n",
    "\n",
    "w_grad = np.random.randn(f,1)\n",
    "print(\"w_grad\", w_grad.shape)\n",
    "loss1 = []\n",
    "diff = []\n",
    "\n",
    "for i in range(100):\n",
    "    xyz = X_train@w_grad\n",
    "    w_grad = w_grad-eta*(X_train[i*100:(i+1)*100].T@(X_train[0:100]@w_grad-y_train[i*100:(i+1)*100])) \n",
    "    diff.append(LA.norm(w_grad-w_ml))\n",
    "\n",
    "diff = np.array(diff)"
   ]
  },
  {
   "cell_type": "code",
   "execution_count": 145,
   "id": "6d34d189",
   "metadata": {},
   "outputs": [
    {
     "data": {
      "image/png": "[encoded data removed]",
      "text/plain": [
       "<Figure size 432x288 with 1 Axes>"
      ]
     },
     "metadata": {
      "needs_background": "light"
     },
     "output_type": "display_data"
    },
    {
     "data": {
      "text/plain": [
       "<Figure size 432x288 with 0 Axes>"
      ]
     },
     "metadata": {},
     "output_type": "display_data"
    }
   ],
   "source": [
    "# plot ||w_grad-w_ml||_2\n",
    "plt.grid()\n",
    "plt.title(\"Stochastic Gradient Descent plot\")\n",
    "plt.xlabel(\"Iterations\")\n",
    "plt.ylabel(\"|| $w^t - $w_{ML} ||$_2$\")\n",
    "plt.plot(diff)\n",
    "plt.show()\n",
    "plt.savefig(\"L2 Norm of difference for gradient descent\")"
   ]
  },
  {
   "cell_type": "code",
   "execution_count": 146,
   "id": "43714eeb",
   "metadata": {},
   "outputs": [
    {
     "name": "stdout",
     "output_type": "stream",
     "text": [
      "Final Mean squared error on train set using w_grad 8.14208871584013\n"
     ]
    }
   ],
   "source": [
    "# Final mean squared Error on train set using w_ML\n",
    "print(\"Final Mean squared error on train set using w_grad\", (1/n_train)*(LA.norm(X_train@w_grad-y_train))**2)\n"
   ]
  },
  {
   "cell_type": "code",
   "execution_count": 147,
   "id": "9eecde54",
   "metadata": {},
   "outputs": [
    {
     "name": "stdout",
     "output_type": "stream",
     "text": [
      "(500, 1)\n",
      "Final Mean squared error on train set using w_grad 8.212066431030644\n"
     ]
    }
   ],
   "source": [
    "# Final mean squared Error on test set using w_grad\n",
    "print(y_test.shape)\n",
    "#print(y_test)\n",
    "print(\"Final Mean squared error on train set using w_grad\", (1/n_test)*(LA.norm(X_test@w_grad-y_test))**2)"
   ]
  },
  {
   "cell_type": "markdown",
   "id": "8327836e",
   "metadata": {},
   "source": [
    "# 2 iv) Ridge Regression"
   ]
  },
  {
   "cell_type": "code",
   "execution_count": 148,
   "id": "226ef45d",
   "metadata": {},
   "outputs": [
    {
     "name": "stdout",
     "output_type": "stream",
     "text": [
      "\n",
      "Lambda for which validation error is minimum 0\n"
     ]
    }
   ],
   "source": [
    "n_val_ridge = 10000*0.2\n",
    "lam_min = 0\n",
    "#initializing parameters\n",
    "a, b = 6, 8\n",
    "#eta = 70e-7\n",
    "eta = 70e-7\n",
    "diff = []\n",
    "loss = []\n",
    "n_iter = 1\n",
    "iden = np.eye(f,f)\n",
    "w_space = []\n",
    "\n",
    "#lambda search space\n",
    "lambdas = np.array(np.arange(0.7, 0.8, 0.1))\n",
    "#lambdas = np.array(np.arange(15, 17, 0.1))\n",
    "#lambdas = np.array(np.arange(3.1, 3.4, 0.1))\n",
    "w_ridge = np.random.randn(f,1)\n",
    "\n",
    "X_train = X_train_ridge\n",
    "y_train = y_train_ridge\n",
    "\n",
    "XTX_train = X_train.T@X_train\n",
    "XTy_train = X_train.T@y_train\n",
    "\n",
    "for lam in lambdas:\n",
    "    w_ridgetemp = np.random.beta(a,b,(f,1))\n",
    "    for i in range(n_iter):\n",
    "        w_ridgetemp = w_ridgetemp - eta * (np.matmul(XTX_train+ lam *iden, w_ridgetemp) - XTy_train)\n",
    "    \n",
    "    loss.append((1/n_val_ridge)* (LA.norm(X_val@w_ridgetemp-y_val))**2)\n",
    "    \n",
    "    if(LA.norm(X_val@w_ridgetemp - y_val) < LA.norm(X_val@w_ridge-y_val)):\n",
    "        w_ridge = np.copy(w_ridgetemp)\n",
    "        lam_min = lam\n",
    "        \n",
    "loss = np.array(loss)\n",
    "print()\n",
    "print(\"Lambda for which validation error is minimum\", lam_min)"
   ]
  },
  {
   "cell_type": "code",
   "execution_count": 149,
   "id": "73ecd0be",
   "metadata": {},
   "outputs": [
    {
     "data": {
      "text/plain": [
       "[<matplotlib.lines.Line2D at 0x13b09831e80>]"
      ]
     },
     "execution_count": 149,
     "metadata": {},
     "output_type": "execute_result"
    },
    {
     "data": {
      "image/png": "[encoded data removed]",
      "text/plain": [
       "<Figure size 432x288 with 1 Axes>"
      ]
     },
     "metadata": {
      "needs_background": "light"
     },
     "output_type": "display_data"
    }
   ],
   "source": [
    "#plot loss on test vs lambda\n",
    "plt.grid()\n",
    "#plt.figure(figsize(12, 12))\n",
    "plt.title(\"Ridge regression\")\n",
    "plt.xlabel(\"X axis: lambda values\")\n",
    "plt.ylabel(\"Y axis: mean squared error on validation set\")\n",
    "plt.plot(lambdas, loss)\n",
    "#plt.sacefig(\"Loss on validation set Vs lambda\")\n",
    "#plt.show()"
   ]
  },
  {
   "cell_type": "code",
   "execution_count": 150,
   "id": "e8217f37",
   "metadata": {},
   "outputs": [
    {
     "name": "stdout",
     "output_type": "stream",
     "text": [
      "mean squared error on train set using w_ridge 24.52245270157425\n"
     ]
    }
   ],
   "source": [
    "#mean squared error on train set using w_ridge\n",
    "\n",
    "print(\"mean squared error on train set using w_ridge\", (1/n_train)*(LA.norm(X_train@w_ridge-y_train))**2)"
   ]
  },
  {
   "cell_type": "code",
   "execution_count": 151,
   "id": "4327a561",
   "metadata": {},
   "outputs": [
    {
     "name": "stdout",
     "output_type": "stream",
     "text": [
      "mean squared error on test set using w_ridge 27.306944914091773\n"
     ]
    }
   ],
   "source": [
    "#mean squared error on test set using w_ridge\n",
    "\n",
    "print(\"mean squared error on test set using w_ridge\", (1/n_test)*(LA.norm(X_test@w_ridge-y_test))**2)"
   ]
  }
 ],
 "metadata": {
  "kernelspec": {
   "display_name": "Python 3 (ipykernel)",
   "language": "python",
   "name": "python3"
  },
  "language_info": {
   "codemirror_mode": {
    "name": "ipython",
    "version": 3
   },
   "file_extension": ".py",
   "mimetype": "text/x-python",
   "name": "python",
   "nbconvert_exporter": "python",
   "pygments_lexer": "ipython3",
   "version": "3.9.7"
  }
 },
 "nbformat": 4,
 "nbformat_minor": 5
}
